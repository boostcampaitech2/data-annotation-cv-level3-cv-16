{
 "cells": [
  {
   "cell_type": "code",
   "execution_count": 5,
   "metadata": {},
   "outputs": [],
   "source": [
    "import glob\n",
    "import json\n",
    "\n",
    "files = glob.glob('/opt/ml/aihub/ufo/**/*.json', recursive=True)\n",
    "files = sorted(files)"
   ]
  },
  {
   "cell_type": "code",
   "execution_count": 6,
   "metadata": {},
   "outputs": [
    {
     "name": "stderr",
     "output_type": "stream",
     "text": [
      "100%|██████████| 55927/55927 [00:04<00:00, 11433.67it/s]\n"
     ]
    }
   ],
   "source": [
    "import json\n",
    "from tqdm import tqdm\n",
    "\n",
    "images = {}\n",
    "for file in tqdm(files):\n",
    "    with open(file, 'r') as f:\n",
    "        ann = json.load(f)\n",
    "    try:\n",
    "        image_name = ann['images'][0]['file_name']\n",
    "        \n",
    "        img_h = ann['images'][0]['height']\n",
    "        img_w = ann['images'][0]['width']\n",
    "    except:\n",
    "        print(ann)\n",
    "    words = {}\n",
    "    for i, text in enumerate(ann['annotations']):\n",
    "        xmin, ymin, w, h = text['bbox']\n",
    "        try : \n",
    "            words[str(i)] = {\n",
    "                'points' : [[xmin, ymin], [xmin+w, ymin], [xmin+w, ymin+h], [xmin, ymin+h]],\n",
    "                'transcription' : text['text'],\n",
    "                'illegibility': (text['text']=='xxx')\n",
    "            }\n",
    "        except:\n",
    "            continue\n",
    "    images[image_name] = {'img_h' : img_h, 'img_w' : img_w, 'words' : words}\n",
    "final = {'images' : images}\n",
    "    "
   ]
  },
  {
   "cell_type": "code",
   "execution_count": 7,
   "metadata": {},
   "outputs": [
    {
     "data": {
      "text/plain": [
       "55927"
      ]
     },
     "execution_count": 7,
     "metadata": {},
     "output_type": "execute_result"
    }
   ],
   "source": [
    "len(final['images'])"
   ]
  },
  {
   "cell_type": "code",
   "execution_count": 8,
   "metadata": {},
   "outputs": [],
   "source": [
    "with open('/opt/ml/aihub/ufo/train.json', 'w') as f:\n",
    "        json.dump(final, f, indent=4)"
   ]
  },
  {
   "cell_type": "code",
   "execution_count": null,
   "metadata": {},
   "outputs": [],
   "source": []
  }
 ],
 "metadata": {
  "interpreter": {
   "hash": "d4d1e4263499bec80672ea0156c357c1ee493ec2b1c70f0acce89fc37c4a6abe"
  },
  "kernelspec": {
   "display_name": "Python 3.8.5 64-bit ('base': conda)",
   "language": "python",
   "name": "python3"
  },
  "language_info": {
   "codemirror_mode": {
    "name": "ipython",
    "version": 3
   },
   "file_extension": ".py",
   "mimetype": "text/x-python",
   "name": "python",
   "nbconvert_exporter": "python",
   "pygments_lexer": "ipython3",
   "version": "3.8.5"
  },
  "orig_nbformat": 4
 },
 "nbformat": 4,
 "nbformat_minor": 2
}
