{
 "cells": [
  {
   "cell_type": "code",
   "execution_count": null,
   "id": "1e8d0272-10ee-45b3-ae8a-857e1b1c3f87",
   "metadata": {},
   "outputs": [],
   "source": [
    "import time\n",
    "\n",
    "import json\n",
    "import wandb\n",
    "import matplotlib\n",
    "import matplotlib.pyplot as plt\n",
    "import matplotlib.patches as patches\n",
    "from matplotlib import font_manager\n",
    "\n",
    "from PIL import Image\n",
    "import numpy as np\n",
    "from easydict import EasyDict as edict"
   ]
  },
  {
   "cell_type": "code",
   "execution_count": null,
   "id": "aa4a19f4",
   "metadata": {},
   "outputs": [],
   "source": [
    "for font in font_manager.fontManager.ttflist:\n",
    "    if 'Nanum' in font.name:\n",
    "        print(font.name, font.fname)"
   ]
  },
  {
   "cell_type": "code",
   "execution_count": null,
   "id": "a45a0491-5f59-4f0c-9a77-29b330079e4b",
   "metadata": {},
   "outputs": [],
   "source": [
    "import matplotlib as mpl\n",
    "\n",
    "# 유니코드 깨짐현상 해결\n",
    "mpl.rcParams['axes.unicode_minus'] = False\n",
    "\n",
    "# 나눔고딕 폰트 적용\n",
    "plt.rcParams[\"font.family\"] = 'NanumGothic'"
   ]
  },
  {
   "cell_type": "code",
   "execution_count": null,
   "id": "5d2fda42-279c-4e32-a4e9-5f765ace0cbc",
   "metadata": {},
   "outputs": [],
   "source": [
    "train_path = \"/opt/ml/input/data/ICDAR17_Korean/ufo/train.json\"\n",
    "with open(train_path, \"r\") as f:\n",
    "    train_json = json.load(f)\n",
    "print(train_json.keys())\n",
    "tr_dict = edict(train_json['images'])"
   ]
  },
  {
   "cell_type": "code",
   "execution_count": null,
   "id": "643ec431",
   "metadata": {},
   "outputs": [],
   "source": [
    "def isEngOrKor(str):\n",
    "    lst = set()\n",
    "    for c in str:\n",
    "        if ord('가') <= ord(c) <= ord('힣'):\n",
    "            lst.add('ko')\n",
    "        elif ord('a') <= ord(c.lower()) <= ord('z'):\n",
    "            lst.add('en')\n",
    "        else:\n",
    "            continue\n",
    "    return list(lst)"
   ]
  },
  {
   "cell_type": "code",
   "execution_count": null,
   "id": "391a120d",
   "metadata": {},
   "outputs": [],
   "source": [
    "tr_image_prefix = \"/opt/ml/input/data/ICDAR17_Korean/images/\"\n",
    "rows = 1\n",
    "cols = 2\n",
    "for index, (key, value) in enumerate(tr_dict.items()):\n",
    "    if index>=360 and index <400:\n",
    "        fig = plt.figure(figsize=(20, 20)) # rows*cols 행렬의 i번째 subplot 생성\n",
    "        ax1 = fig.add_subplot(rows, cols, 1)\n",
    "        ax2 = fig.add_subplot(rows, cols, 2)\n",
    "        im_name = tr_image_prefix + key\n",
    "        Img = Image.open(im_name)\n",
    "        ax1.imshow(Img)\n",
    "        ax2.imshow(Img)\n",
    "        for w_key, w_value in value['words'].items():\n",
    "            if w_value['illegibility'] == False:\n",
    "                print('orientation:', w_value['orientation'], end= ' / ')\n",
    "                if isEngOrKor(w_value['transcription']) == w_value['language']:\n",
    "                    print('compatibility:', isEngOrKor(w_value['transcription']) == w_value['language'], end= ' / ')\n",
    "                else:\n",
    "                    print('Algorithm:',isEngOrKor(w_value['transcription']), end=' / ')\n",
    "                print('language:', w_value['language'], end= ' / ')\n",
    "                print('transcription:', w_value['transcription'])\n",
    "            x1, y1 = w_value['points'][0]\n",
    "            points = w_value['points']\n",
    "            tuple_points = [tuple(point) for point in points]\n",
    "            tuple_points = tuple(tuple_points)\n",
    "            rect = patches.Polygon(\n",
    "                tuple_points,\n",
    "                linewidth=3, edgecolor='deeppink', facecolor='none',\n",
    "            )\n",
    "            ax2.add_patch(rect)\n",
    "            ax2.text(\n",
    "            x=x1, y=y1, s=w_value['transcription'],\n",
    "            bbox=dict(facecolor='deeppink', alpha=1)\n",
    "            )\n",
    "\n",
    "        plt.show()\n"
   ]
  },
  {
   "cell_type": "code",
   "execution_count": null,
   "id": "342a827f-f8b1-4ed6-b1c0-ff537f4665b5",
   "metadata": {},
   "outputs": [],
   "source": []
  }
 ],
 "metadata": {
  "kernelspec": {
   "display_name": "Python 3 (ipykernel)",
   "language": "python",
   "name": "python3"
  },
  "language_info": {
   "codemirror_mode": {
    "name": "ipython",
    "version": 3
   },
   "file_extension": ".py",
   "mimetype": "text/x-python",
   "name": "python",
   "nbconvert_exporter": "python",
   "pygments_lexer": "ipython3",
   "version": "3.8.5"
  }
 },
 "nbformat": 4,
 "nbformat_minor": 5
}
