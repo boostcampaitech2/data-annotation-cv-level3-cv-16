{
 "cells": [
  {
   "cell_type": "code",
   "execution_count": 1,
   "id": "1e8d0272-10ee-45b3-ae8a-857e1b1c3f87",
   "metadata": {},
   "outputs": [],
   "source": [
    "import time\n",
    "\n",
    "import json\n",
    "\n",
    "import wandb\n",
    "import matplotlib.pyplot as plt\n",
    "import matplotlib.patches as patches\n",
    "from PIL import Image\n",
    "import numpy as np\n",
    "from easydict import EasyDict as edict"
   ]
  },
  {
   "cell_type": "code",
   "execution_count": 2,
   "id": "60a6ca2e-dd33-492f-a12a-b3558679a7a5",
   "metadata": {},
   "outputs": [
    {
     "name": "stderr",
     "output_type": "stream",
     "text": [
      "\u001b[34m\u001b[1mwandb\u001b[0m: Currently logged in as: \u001b[33mpassion-ate\u001b[0m (use `wandb login --relogin` to force relogin)\n"
     ]
    },
    {
     "data": {
      "text/plain": [
       "True"
      ]
     },
     "execution_count": 2,
     "metadata": {},
     "output_type": "execute_result"
    }
   ],
   "source": [
    "wandb.login()"
   ]
  },
  {
   "cell_type": "code",
   "execution_count": 6,
   "id": "a45a0491-5f59-4f0c-9a77-29b330079e4b",
   "metadata": {},
   "outputs": [],
   "source": [
    "import matplotlib as mpl\n",
    "\n",
    "# 유니코드 깨짐현상 해결\n",
    "mpl.rcParams['axes.unicode_minus'] = False\n",
    "\n",
    "# 나눔고딕 폰트 적용\n",
    "plt.rcParams[\"font.family\"] = 'NanumGothic'"
   ]
  },
  {
   "cell_type": "code",
   "execution_count": 3,
   "id": "5d2fda42-279c-4e32-a4e9-5f765ace0cbc",
   "metadata": {},
   "outputs": [
    {
     "name": "stdout",
     "output_type": "stream",
     "text": [
      "dict_keys(['images'])\n"
     ]
    }
   ],
   "source": [
    "train_path = \"/opt/ml/input/data/ICDAR17_Korean/ufo/train.json\"\n",
    "with open(train_path, \"r\") as f:\n",
    "    train_json = json.load(f)\n",
    "print(train_json.keys())\n",
    "tr_dict = edict(train_json['images'])"
   ]
  },
  {
   "cell_type": "code",
   "execution_count": 16,
   "id": "aa8b10f9-e894-49d2-9e0a-aa3e0d511365",
   "metadata": {},
   "outputs": [
    {
     "data": {
      "text/html": [
       "Finishing last run (ID:2ohj9q9m) before initializing another..."
      ],
      "text/plain": [
       "<IPython.core.display.HTML object>"
      ]
     },
     "metadata": {},
     "output_type": "display_data"
    },
    {
     "data": {
      "text/html": [
       "<br/>Waiting for W&B process to finish, PID 17509... <strong style=\"color:green\">(success).</strong>"
      ],
      "text/plain": [
       "<IPython.core.display.HTML object>"
      ]
     },
     "metadata": {},
     "output_type": "display_data"
    },
    {
     "data": {
      "text/html": [
       "<style>\n",
       "    table.wandb td:nth-child(1) { padding: 0 10px; text-align: right }\n",
       "    .wandb-row { display: flex; flex-direction: row; flex-wrap: wrap; width: 100% }\n",
       "    .wandb-col { display: flex; flex-direction: column; flex-basis: 100%; flex: 1; padding: 10px; }\n",
       "    </style>\n",
       "<div class=\"wandb-row\"><div class=\"wandb-col\">\n",
       "</div><div class=\"wandb-col\">\n",
       "</div></div>\n",
       "Synced 4 W&B file(s), 90 media file(s), 3 artifact file(s) and 1 other file(s)\n",
       "<br/>Synced <strong style=\"color:#cdcd00\">original-training-set(360-449)</strong>: <a href=\"https://wandb.ai/passion-ate/ocr-images-with-bbox/runs/2ohj9q9m\" target=\"_blank\">https://wandb.ai/passion-ate/ocr-images-with-bbox/runs/2ohj9q9m</a><br/>\n",
       "Find logs at: <code>./wandb/run-20211110_120956-2ohj9q9m/logs</code><br/>\n"
      ],
      "text/plain": [
       "<IPython.core.display.HTML object>"
      ]
     },
     "metadata": {},
     "output_type": "display_data"
    },
    {
     "data": {
      "text/html": [
       "Successfully finished last run (ID:2ohj9q9m). Initializing new run:<br/>"
      ],
      "text/plain": [
       "<IPython.core.display.HTML object>"
      ]
     },
     "metadata": {},
     "output_type": "display_data"
    },
    {
     "data": {
      "text/html": [
       "\n",
       "                    Syncing run <strong><a href=\"https://wandb.ai/passion-ate/ocr-images-with-bbox/runs/1fkq7xs4\" target=\"_blank\">original-training-set(450-535)</a></strong> to <a href=\"https://wandb.ai/passion-ate/ocr-images-with-bbox\" target=\"_blank\">Weights & Biases</a> (<a href=\"https://docs.wandb.com/integrations/jupyter.html\" target=\"_blank\">docs</a>).<br/>\n",
       "\n",
       "                "
      ],
      "text/plain": [
       "<IPython.core.display.HTML object>"
      ]
     },
     "metadata": {},
     "output_type": "display_data"
    },
    {
     "data": {
      "text/html": [
       "<button onClick=\"this.nextSibling.style.display='block';this.style.display='none';\">Display W&B run</button><iframe src=\"https://wandb.ai/passion-ate/ocr-images-with-bbox/runs/1fkq7xs4?jupyter=true\" style=\"border:none;width:100%;height:420px;display:none;\"></iframe>"
      ],
      "text/plain": [
       "<wandb.sdk.wandb_run.Run at 0x7f6f2c602a90>"
      ]
     },
     "execution_count": 16,
     "metadata": {},
     "output_type": "execute_result"
    }
   ],
   "source": [
    "wandb.init(\n",
    "    entity=\"passion-ate\",\n",
    "    project='ocr-images-with-bbox',\n",
    "    name=\"original-training-set(450-535)\"\n",
    ")"
   ]
  },
  {
   "cell_type": "code",
   "execution_count": 18,
   "id": "2fb12d3f-7c2a-4bca-83c9-b18a92dc6fb8",
   "metadata": {},
   "outputs": [],
   "source": [
    "tr_image_prefix = \"/opt/ml/input/data/ICDAR17_Korean/images/\"\n",
    "\n",
    "for index, (key, value) in enumerate(tr_dict.items()):\n",
    "    if index>449:\n",
    "        fig, ax = plt.subplots(figsize=(8, 8))\n",
    "        im_name = tr_image_prefix + key\n",
    "        Img = Image.open(im_name)\n",
    "        ax.imshow(Img)\n",
    "\n",
    "        for w_key, w_value in value['words'].items():\n",
    "            x1, y1 = w_value['points'][0]\n",
    "            w, h = float(w_value['points'][1][0])-x1, float(w_value['points'][2][1])-y1\n",
    "            rect = patches.Rectangle(\n",
    "                xy=(x1, y1),\n",
    "                width=w, height=h,\n",
    "                linewidth=3, edgecolor='deeppink', facecolor='none',\n",
    "            )\n",
    "            ax.add_patch(rect)\n",
    "            ax.text(\n",
    "            x=x1, y=y1, s=w_value['transcription'],\n",
    "            bbox=dict(facecolor='deeppink', alpha=1)\n",
    "            )\n",
    "        wandb.log({\"plot\": fig})\n",
    "        time.sleep(0.01)\n",
    "        plt.show()"
   ]
  },
  {
   "cell_type": "code",
   "execution_count": null,
   "id": "342a827f-f8b1-4ed6-b1c0-ff537f4665b5",
   "metadata": {},
   "outputs": [],
   "source": []
  }
 ],
 "metadata": {
  "kernelspec": {
   "display_name": "Python 3 (ipykernel)",
   "language": "python",
   "name": "python3"
  },
  "language_info": {
   "codemirror_mode": {
    "name": "ipython",
    "version": 3
   },
   "file_extension": ".py",
   "mimetype": "text/x-python",
   "name": "python",
   "nbconvert_exporter": "python",
   "pygments_lexer": "ipython3",
   "version": "3.8.5"
  }
 },
 "nbformat": 4,
 "nbformat_minor": 5
}
